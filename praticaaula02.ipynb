{
  "nbformat": 4,
  "nbformat_minor": 0,
  "metadata": {
    "colab": {
      "name": "praticaaula02.ipynb",
      "provenance": [],
      "authorship_tag": "ABX9TyNuae3O7PxIuowV5Ms+xots",
      "include_colab_link": true
    },
    "kernelspec": {
      "name": "python3",
      "display_name": "Python 3"
    },
    "language_info": {
      "name": "python"
    }
  },
  "cells": [
    {
      "cell_type": "markdown",
      "metadata": {
        "id": "view-in-github",
        "colab_type": "text"
      },
      "source": [
        "<a href=\"https://colab.research.google.com/github/danubiagedro/faculdade/blob/aulas/praticaaula02.ipynb\" target=\"_parent\"><img src=\"https://colab.research.google.com/assets/colab-badge.svg\" alt=\"Open In Colab\"/></a>"
      ]
    },
    {
      "cell_type": "markdown",
      "source": [
        "# PRÁTICA- AULA 02:"
      ],
      "metadata": {
        "id": "ABOFcA0ovj5H"
      }
    },
    {
      "cell_type": "markdown",
      "source": [
        "-ESCREVA AS SEGUINTES EXPRESSÕES ALGÉBRICAS EM LINGUAGEM PYTHON:"
      ],
      "metadata": {
        "id": "iQBXTdTpvq4S"
      }
    },
    {
      "cell_type": "markdown",
      "source": [
        "- O somatório dos 5 primeiros números inteiros e positivos:"
      ],
      "metadata": {
        "id": "t7gfHrFnw42a"
      }
    },
    {
      "cell_type": "code",
      "execution_count": null,
      "metadata": {
        "colab": {
          "base_uri": "https://localhost:8080/"
        },
        "id": "f8vy_dgGvbyt",
        "outputId": "9e5a6b1b-9f74-42a6-84d5-c3bd0edf91bb"
      },
      "outputs": [
        {
          "output_type": "stream",
          "name": "stdout",
          "text": [
            "A soma dos cinco primeiros números inteiros é: 15\n"
          ]
        }
      ],
      "source": [
        "soma = int(1+2+3+4+5)\n",
        "resp = ('A soma dos cinco primeiros números inteiros é: {}'.format(soma))\n",
        "print(resp)\n"
      ]
    },
    {
      "cell_type": "markdown",
      "source": [
        "- A média entre 23, 19 e 31"
      ],
      "metadata": {
        "id": "y9an9-suxf26"
      }
    },
    {
      "cell_type": "code",
      "source": [
        "soma = int((23+19+31)/3)\n",
        "resp = ('A média entre os números 23, 19 e 31 é: {}'.format(soma))\n",
        "print(resp)"
      ],
      "metadata": {
        "colab": {
          "base_uri": "https://localhost:8080/"
        },
        "id": "qI2bYL9txoUf",
        "outputId": "71011969-7e63-41bd-a868-ba55611a83aa"
      },
      "execution_count": null,
      "outputs": [
        {
          "output_type": "stream",
          "name": "stdout",
          "text": [
            "A média entre os números 23, 19 e 31 é: 24\n"
          ]
        }
      ]
    },
    {
      "cell_type": "markdown",
      "source": [
        "- O número de vezes em que 73 cabe em 403"
      ],
      "metadata": {
        "id": "ucL4QLVEzDhQ"
      }
    },
    {
      "cell_type": "code",
      "source": [
        "soma = int(403//73)\n",
        "resp = ('O número de vezes em que 73 cabe em 403 é: {}.'.format(soma))\n",
        "print(resp)"
      ],
      "metadata": {
        "colab": {
          "base_uri": "https://localhost:8080/"
        },
        "id": "SYIfnWmVzMqL",
        "outputId": "330fa4f6-f76c-4314-dd05-130553f7df10"
      },
      "execution_count": null,
      "outputs": [
        {
          "output_type": "stream",
          "name": "stdout",
          "text": [
            "O número de vezes em que 73 cabe em 403 é: 5.\n"
          ]
        }
      ]
    },
    {
      "cell_type": "markdown",
      "source": [
        "- A sobra quando 403 é dividido por 73"
      ],
      "metadata": {
        "id": "d3avvdbuz9wg"
      }
    },
    {
      "cell_type": "code",
      "source": [
        "soma = int(403 % 73)\n",
        "resp = ('A sobra quando 403 é dividido por 73 é: {}.'.format(soma))\n",
        "print(resp)"
      ],
      "metadata": {
        "colab": {
          "base_uri": "https://localhost:8080/"
        },
        "id": "lV-Fm3NY0IWh",
        "outputId": "20edb806-de4b-480a-c42d-cad7c1268a02"
      },
      "execution_count": null,
      "outputs": [
        {
          "output_type": "stream",
          "name": "stdout",
          "text": [
            "A sobra quando 403 é dividido por 73 é: 38.\n"
          ]
        }
      ]
    },
    {
      "cell_type": "markdown",
      "source": [
        "  - 2 elevado à 10ª potência:"
      ],
      "metadata": {
        "id": "TBkXaEoL32Zs"
      }
    },
    {
      "cell_type": "code",
      "source": [
        "soma = int(2**10)\n",
        "resp = ('O resultado da potenciação é: {}.'.format(soma))\n",
        "print(soma)\n",
        "\n"
      ],
      "metadata": {
        "colab": {
          "base_uri": "https://localhost:8080/"
        },
        "id": "ORsAmGzy3-mj",
        "outputId": "5e5d5579-9ce2-45be-d219-dd81301d5457"
      },
      "execution_count": null,
      "outputs": [
        {
          "output_type": "stream",
          "name": "stdout",
          "text": [
            "1024\n"
          ]
        }
      ]
    },
    {
      "cell_type": "markdown",
      "source": [
        "- O valor absoluto da diferença entre 54 e 57"
      ],
      "metadata": {
        "id": "oXOI0xMP4y_g"
      }
    },
    {
      "cell_type": "code",
      "source": [
        "soma = (54-57)\n",
        "print('O valor absoluto é:', abs(soma))"
      ],
      "metadata": {
        "id": "Z9MajIAP466K",
        "colab": {
          "base_uri": "https://localhost:8080/"
        },
        "outputId": "2f8a8856-4130-413e-f6ab-9a68989fafd9"
      },
      "execution_count": null,
      "outputs": [
        {
          "output_type": "stream",
          "name": "stdout",
          "text": [
            "O valor absoluto é: 3\n"
          ]
        }
      ]
    }
  ]
}