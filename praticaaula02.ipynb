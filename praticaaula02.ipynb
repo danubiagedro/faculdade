{
  "nbformat": 4,
  "nbformat_minor": 0,
  "metadata": {
    "colab": {
      "name": "praticaaula02.ipynb",
      "provenance": [],
      "collapsed_sections": [],
      "authorship_tag": "ABX9TyOk/OLtgi8N2Orou3oFRpNv",
      "include_colab_link": true
    },
    "kernelspec": {
      "name": "python3",
      "display_name": "Python 3"
    },
    "language_info": {
      "name": "python"
    }
  },
  "cells": [
    {
      "cell_type": "markdown",
      "metadata": {
        "id": "view-in-github",
        "colab_type": "text"
      },
      "source": [
        "<a href=\"https://colab.research.google.com/github/danubiagedro/faculdade/blob/aulas/praticaaula02.ipynb\" target=\"_parent\"><img src=\"https://colab.research.google.com/assets/colab-badge.svg\" alt=\"Open In Colab\"/></a>"
      ]
    },
    {
      "cell_type": "markdown",
      "source": [
        "# PRÁTICA- AULA 02:"
      ],
      "metadata": {
        "id": "ABOFcA0ovj5H"
      }
    },
    {
      "cell_type": "markdown",
      "source": [
        "-ESCREVA AS SEGUINTES EXPRESSÕES ALGÉBRICAS EM LINGUAGEM PYTHON:"
      ],
      "metadata": {
        "id": "iQBXTdTpvq4S"
      }
    },
    {
      "cell_type": "markdown",
      "source": [
        "- O somatório dos 5 primeiros números inteiros e positivos:"
      ],
      "metadata": {
        "id": "t7gfHrFnw42a"
      }
    },
    {
      "cell_type": "code",
      "execution_count": null,
      "metadata": {
        "colab": {
          "base_uri": "https://localhost:8080/"
        },
        "id": "f8vy_dgGvbyt",
        "outputId": "9e5a6b1b-9f74-42a6-84d5-c3bd0edf91bb"
      },
      "outputs": [
        {
          "output_type": "stream",
          "name": "stdout",
          "text": [
            "A soma dos cinco primeiros números inteiros é: 15\n"
          ]
        }
      ],
      "source": [
        "soma = int(1+2+3+4+5)\n",
        "resp = ('A soma dos cinco primeiros números inteiros é: {}'.format(soma))\n",
        "print(resp)\n"
      ]
    },
    {
      "cell_type": "markdown",
      "source": [
        "- A média entre 23, 19 e 31"
      ],
      "metadata": {
        "id": "y9an9-suxf26"
      }
    },
    {
      "cell_type": "code",
      "source": [
        "soma = int((23+19+31)/3)\n",
        "resp = ('A média entre os números 23, 19 e 31 é: {}'.format(soma))\n",
        "print(resp)"
      ],
      "metadata": {
        "colab": {
          "base_uri": "https://localhost:8080/"
        },
        "id": "qI2bYL9txoUf",
        "outputId": "71011969-7e63-41bd-a868-ba55611a83aa"
      },
      "execution_count": null,
      "outputs": [
        {
          "output_type": "stream",
          "name": "stdout",
          "text": [
            "A média entre os números 23, 19 e 31 é: 24\n"
          ]
        }
      ]
    },
    {
      "cell_type": "markdown",
      "source": [
        "- O número de vezes em que 73 cabe em 403"
      ],
      "metadata": {
        "id": "ucL4QLVEzDhQ"
      }
    },
    {
      "cell_type": "code",
      "source": [
        "soma = int(403//73)\n",
        "resp = ('O número de vezes em que 73 cabe em 403 é: {}.'.format(soma))\n",
        "print(resp)"
      ],
      "metadata": {
        "colab": {
          "base_uri": "https://localhost:8080/"
        },
        "id": "SYIfnWmVzMqL",
        "outputId": "330fa4f6-f76c-4314-dd05-130553f7df10"
      },
      "execution_count": null,
      "outputs": [
        {
          "output_type": "stream",
          "name": "stdout",
          "text": [
            "O número de vezes em que 73 cabe em 403 é: 5.\n"
          ]
        }
      ]
    },
    {
      "cell_type": "markdown",
      "source": [
        "- A sobra quando 403 é dividido por 73"
      ],
      "metadata": {
        "id": "d3avvdbuz9wg"
      }
    },
    {
      "cell_type": "code",
      "source": [
        "soma = int(403 % 73)\n",
        "resp = ('A sobra quando 403 é dividido por 73 é: {}.'.format(soma))\n",
        "print(resp)"
      ],
      "metadata": {
        "colab": {
          "base_uri": "https://localhost:8080/"
        },
        "id": "lV-Fm3NY0IWh",
        "outputId": "20edb806-de4b-480a-c42d-cad7c1268a02"
      },
      "execution_count": null,
      "outputs": [
        {
          "output_type": "stream",
          "name": "stdout",
          "text": [
            "A sobra quando 403 é dividido por 73 é: 38.\n"
          ]
        }
      ]
    },
    {
      "cell_type": "markdown",
      "source": [
        "  - 2 elevado à 10ª potência:"
      ],
      "metadata": {
        "id": "TBkXaEoL32Zs"
      }
    },
    {
      "cell_type": "code",
      "source": [
        "soma = int(2**10)\n",
        "resp = ('O resultado da potenciação é: {}.'.format(soma))\n",
        "print(soma)\n",
        "\n"
      ],
      "metadata": {
        "colab": {
          "base_uri": "https://localhost:8080/"
        },
        "id": "ORsAmGzy3-mj",
        "outputId": "5e5d5579-9ce2-45be-d219-dd81301d5457"
      },
      "execution_count": null,
      "outputs": [
        {
          "output_type": "stream",
          "name": "stdout",
          "text": [
            "1024\n"
          ]
        }
      ]
    },
    {
      "cell_type": "markdown",
      "source": [
        "- O valor absoluto da diferença entre 54 e 57"
      ],
      "metadata": {
        "id": "oXOI0xMP4y_g"
      }
    },
    {
      "cell_type": "code",
      "source": [
        "soma = (54-57)\n",
        "print('O valor absoluto é:', abs(soma))"
      ],
      "metadata": {
        "id": "Z9MajIAP466K",
        "colab": {
          "base_uri": "https://localhost:8080/"
        },
        "outputId": "2f8a8856-4130-413e-f6ab-9a68989fafd9"
      },
      "execution_count": null,
      "outputs": [
        {
          "output_type": "stream",
          "name": "stdout",
          "text": [
            "O valor absoluto é: 3\n"
          ]
        }
      ]
    },
    {
      "cell_type": "markdown",
      "source": [
        "- O menor valor entre 34, 29 e 31"
      ],
      "metadata": {
        "id": "SJiINs_FPgSD"
      }
    },
    {
      "cell_type": "code",
      "source": [
        "cal = min(34, 29, 31)\n",
        "print('O menor valor é: {}'.format(soma))"
      ],
      "metadata": {
        "colab": {
          "base_uri": "https://localhost:8080/"
        },
        "id": "OowesX2KQJ-p",
        "outputId": "d900dac4-1b9b-445b-fbfd-5dd28e076b4c"
      },
      "execution_count": 5,
      "outputs": [
        {
          "output_type": "stream",
          "name": "stdout",
          "text": [
            "O menor valor é: 29\n"
          ]
        }
      ]
    },
    {
      "cell_type": "code",
      "source": [
        "x = 34\n",
        "y = 29\n",
        "z = 31\n",
        "cal = min(34, 29, 31)\n",
        "print('O menor valor entre {}, {} e {} é: {}'. format(x, y, z, cal))"
      ],
      "metadata": {
        "colab": {
          "base_uri": "https://localhost:8080/"
        },
        "id": "BsqX2eduQv5Z",
        "outputId": "faaa626b-ee3c-434a-d428-eca0b843440e"
      },
      "execution_count": 6,
      "outputs": [
        {
          "output_type": "stream",
          "name": "stdout",
          "text": [
            "O menor valor entre 34, 29 e 31 é: 29\n"
          ]
        }
      ]
    },
    {
      "cell_type": "markdown",
      "source": [
        "# Atribuição"
      ],
      "metadata": {
        "id": "oMtxMHDyRxND"
      }
    },
    {
      "cell_type": "markdown",
      "source": [
        "-ESCREVA AS EXPRESSÕES EM PYTHON PARA:"
      ],
      "metadata": {
        "id": "ryPM5OCRR2Iq"
      }
    },
    {
      "cell_type": "markdown",
      "source": [
        "- Atribuir o valor inteiro 3 à variável *a* "
      ],
      "metadata": {
        "id": "twuw3OikSFpC"
      }
    },
    {
      "cell_type": "code",
      "source": [
        "a = 3\n",
        "print(a)"
      ],
      "metadata": {
        "colab": {
          "base_uri": "https://localhost:8080/"
        },
        "id": "cES0c8ECSAfB",
        "outputId": "455f9234-11eb-40e2-b0ad-a0dcc9b784fe"
      },
      "execution_count": 7,
      "outputs": [
        {
          "output_type": "stream",
          "name": "stdout",
          "text": [
            "3\n"
          ]
        }
      ]
    },
    {
      "cell_type": "markdown",
      "source": [
        "- Atribuir o valor 4 à variável *b*"
      ],
      "metadata": {
        "id": "tMA5rYB5Srcd"
      }
    },
    {
      "cell_type": "code",
      "source": [
        "b = 4\n",
        "print(b)"
      ],
      "metadata": {
        "colab": {
          "base_uri": "https://localhost:8080/"
        },
        "id": "Low3ugdcSyaP",
        "outputId": "a246cfaa-2dba-4bf6-85be-8adcd5cb2240"
      },
      "execution_count": 8,
      "outputs": [
        {
          "output_type": "stream",
          "name": "stdout",
          "text": [
            "4\n"
          ]
        }
      ]
    },
    {
      "cell_type": "markdown",
      "source": [
        "ATENÇÃO:\n",
        "- UM SINAL DE = SIGNIFICA \"ATRIBUIÇÃO\", JÁ DOIS == COMPARAÇÃO LÓGICA DE IGUALDADE."
      ],
      "metadata": {
        "id": "SOZkSztGTA3X"
      }
    }
  ]
}